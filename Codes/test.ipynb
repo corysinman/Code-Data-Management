{
 "cells": [
  {
   "cell_type": "code",
   "execution_count": 4,
   "id": "e22b466b",
   "metadata": {},
   "outputs": [
    {
     "name": "stdout",
     "output_type": "stream",
     "text": [
      "Loading paths from pathInfo.txt ...\n",
      "----- PATHS INITIALIZED -----\n",
      "Reading Directory: D:/GithubRep/TemplateProject/Codes\\\n",
      "Raw Data Directory: D:/GithubRep/TemplateProject/Codes\\\n",
      "Writing Directory: D:/GithubRep/TemplateProject/Codes\\\n",
      "-----------------------------\n"
     ]
    }
   ],
   "source": [
    "# PathInitializer.py\n",
    "# Initialize codes running from Github to get required directories\n",
    "# Saves and loads path info from pathInfo.txt\n",
    "\n",
    "import os\n",
    "from pathlib import Path\n",
    "from tkinter import Tk, filedialog\n",
    "\n",
    "def choose_dir(initialdir=None, title=\"Choose Directory\"):\n",
    "    \"\"\"Open a folder selection dialog and return the chosen directory.\"\"\"\n",
    "    root = Tk()\n",
    "    root.withdraw()  # hide the main tkinter window\n",
    "    folder = filedialog.askdirectory(initialdir=initialdir, title=title)\n",
    "    root.destroy()\n",
    "    if not folder:\n",
    "        raise RuntimeError(f\"No {title.lower()} selected.\")\n",
    "    return os.path.join(folder, '')\n",
    "\n",
    "\n",
    "config_file = Path.cwd() / \"pathInfo.txt\"\n",
    "\n",
    "if config_file.is_file():\n",
    "    # --- Load from pathInfo.txt ---\n",
    "    print(\"Loading paths from pathInfo.txt ...\")\n",
    "    with open(config_file, \"r\") as f:\n",
    "        rdDir = f.readline().strip()\n",
    "        rawDataDir = f.readline().strip()\n",
    "        wrDir = f.readline().strip()\n",
    "else:\n",
    "    # --- Ask User for Paths ---\n",
    "    rdDir = choose_dir(title=\"Choose Reading Directory\")\n",
    "\n",
    "    rawDataDir = choose_dir(initialdir=rdDir, title=\"Choose Raw Data Directory\")\n",
    "\n",
    "    wrDir = choose_dir(initialdir=rdDir, title=\"Choose Writing Directory\")\n",
    "\n",
    "    # --- Save to pathInfo.txt ---\n",
    "    with open(config_file, \"w\") as f:\n",
    "        f.write(f\"{rdDir}\\n\")\n",
    "        f.write(f\"{rawDataDir}\\n\")\n",
    "        f.write(f\"{wrDir}\\n\")\n",
    "    print(\"Path information saved to pathInfo.txt\")\n",
    "\n",
    "# --- Summary Output ---\n",
    "print(\"----- PATHS INITIALIZED -----\")\n",
    "print(\"Reading Directory: \" + rdDir)\n",
    "print(\"Raw Data Directory: \" + rawDataDir)\n",
    "print(\"Writing Directory: \" + wrDir)\n",
    "print(\"-----------------------------\")\n",
    "\n",
    "\n"
   ]
  },
  {
   "cell_type": "code",
   "execution_count": 5,
   "id": "c57b00c2",
   "metadata": {},
   "outputs": [
    {
     "name": "stdout",
     "output_type": "stream",
     "text": [
      "----- PATHS INITIALIZED -----\n",
      "Reading Directory: D:/GithubRep/TemplateProject/Codes\\\n",
      "Raw Data Directory: D:/GithubRep/TemplateProject/Codes\\\n",
      "Writing Directory: D:/GithubRep/TemplateProject/Codes\\\n",
      "-----------------------------\n"
     ]
    }
   ],
   "source": [
    "# --- Summary Output ---\n",
    "print(\"----- PATHS INITIALIZED -----\")\n",
    "print(\"Reading Directory: \" + rdDir)\n",
    "print(\"Raw Data Directory: \" + rawDataDir)\n",
    "print(\"Writing Directory: \" + wrDir)\n",
    "print(\"-----------------------------\")"
   ]
  }
 ],
 "metadata": {
  "kernelspec": {
   "display_name": "Python 3",
   "language": "python",
   "name": "python3"
  },
  "language_info": {
   "codemirror_mode": {
    "name": "ipython",
    "version": 3
   },
   "file_extension": ".py",
   "mimetype": "text/x-python",
   "name": "python",
   "nbconvert_exporter": "python",
   "pygments_lexer": "ipython3",
   "version": "3.11.0"
  }
 },
 "nbformat": 4,
 "nbformat_minor": 5
}
